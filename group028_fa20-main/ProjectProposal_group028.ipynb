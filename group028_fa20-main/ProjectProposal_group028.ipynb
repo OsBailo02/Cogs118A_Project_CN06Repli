{
 "cells": [
  {
   "cell_type": "markdown",
   "metadata": {},
   "source": [
    "# COGS 108 - Final Project Proposal"
   ]
  },
  {
   "cell_type": "markdown",
   "metadata": {},
   "source": [
    "# Names and IDs\n",
    "\n",
    "- Austin Cheong A12764131 \n",
    "- Ayusha Joshi A13225020\n",
    "- Soo Lee A14723740\n",
    "- Oscar Bailon A15532796 \n",
    "- Venetia Lin A16115659 "
   ]
  },
  {
   "cell_type": "markdown",
   "metadata": {},
   "source": [
    "# Research Question"
   ]
  },
  {
   "cell_type": "markdown",
   "metadata": {},
   "source": [
    "What words and phrases in a book’s summary are most successful in convincing a customer to purchase romance and horror books?"
   ]
  },
  {
   "cell_type": "markdown",
   "metadata": {},
   "source": [
    "## Background and Prior Work"
   ]
  },
  {
   "cell_type": "markdown",
   "metadata": {},
   "source": [
    "When picking up a book the most important characteristic people look at is the cover and the summary of the book. Book summaries are commonly used to grasp the attention of the reader and draw them into the contents of the book, yet have you ever considered the underlying influence that a synopsis has on selecting a book? Unconsciously, we are predetermined to choose comfort and familiarity over discomfort and the unknown, so has this in any way contributed to our decisions as readers? According to an EPJ Data Science article1, we are predisposed to continue reading a book series due to the expectation of scene and character consistency. As a result, selecting a synopsis that consists of these same emotions of comfort and reliability proves to effectively have a return interest in continuing the series or starting any subsequent book following these axioms. \n",
    "\n",
    "**Why is this question of interest to your group?**\n",
    "    \n",
    "A person’s first impression of a book can come from a variety of factors, such as book cover, book title, etc. We are interested in determining how a book’s summary might persuade a customer to purchase the item. Specifically, are there any keywords or phrases that are associated with good sales? Also how can this lead to the success of the book’s sales?\n",
    "\n",
    "**What background information led you to your hypothesis?**\n",
    "\n",
    "[The structure and success of books boils down to the familiarity each book provides in the sequels or the cliche patterns associated with a certain genre](https://epjdatascience.springeropen.com/articles/10.1140/epjds/s13688-018-0135-y#Sec17)<sup>1</sup>. We discovered our hypothesis by fairly extrapolating that consistent and familiar structure that leads to the success of a book. With this in mind, we wanted to further dive into what first actions a person takes to choose a book and if there can be any format or familiarity in structure that sways individuals into selecting a book to read. We decided to look at the synopsis, as one of the first indicators for the selection of a book and observe a structure in wording that would persuade an individual into buying a book. [It is evident that stereotypes, such as mystery books being written by men and romance books written by women tend to have more success than those genres written by the opposite gender due to the patterns and roles assigned to each genre that each gender has perfected](https://epjdatascience.springeropen.com/articles/10.1140/epjds/s13688-018-0135-y#Sec17)<sup>1</sup>. Another general idea that we came across was that [using keywords in the right way can be a powerful method in which to increase your book traffic and ultimately your sales](https://kindlepreneur.com/kindle-keywords-fiction-author-strategy/)<sup>2</sup>. According to the article from the site Kindlepreneur, there are certain keywords and strategies that can be used to increase the success of a book. In essence, the article reinforces the idea that words and phrases that are characteristic of the book’s genre will be effective in making the book more discoverable and thus have a higher chance of being purchased.\n",
    "\n",
    "Specifically, according to a study done at University of Texas at Austin by Kate Blackburn, there is a correlation between certain words for highly rated romantic novels. [From words like “kiss,” “nod,” and “grin” to words like “sensation” and “anticipation,” it is apparent that there are two main categories for words that are characteristic of books in the romance genre](https://www.houstonchronicle.com/entertainment/books/article/A-look-at-the-top-25-words-in-highly-rated-13190614.php)<sup>3</sup>. Specifically, verbs that are more associated with romantic actions and words that describe positive personal feelings are much more likely to be indicative of a successful romance novel. From this information, we predicted in our hypothesis that similar words like “love,” would also be indicative of persuading a potential reader to purchase a book in the romantic genre.\n",
    "\n",
    "With regards to the horror genre, [a machine learning project done in 2013 looked to train a model to classify a book into one of three literary genres, with one of those genres being Gothic Horror](http://www.subsubroutine.com/sub-subroutine/2013/12/08/machine-learning-literary-genres-from-19th-century-seafaring-horror-and-western-novels)<sup>4</sup>. In particular, the project initially trained the model using mostly 19th century horror works such as *Carmilla* by Sheridan LeFanu, *The Fall of the House of Usher* by Edgar Allan Poe, *Frankenstein* by Mary Shelley, and other classic works. In terms of the actual algorithm that was used, the author of the project downloaded all texts from Project Gutenberg, cleaned the text data by filtering out certain words (such as headers, footers, and punctuation), and then stored and analyzed the remaining data by looking at the most frequent words in each genre. From this project, the author mentioned that some of the most common words in the horror genre were “eyes,” “night,” “mysterious,” and “nervousness”. From this information, we formulated our hypothesis around that idea that ominous nouns that evoke an unnerving feeling would attract the largest audience. In particular, we believed that verbs of the same type might be successful in attracting possible readers since verbs are more interactive and are often used to highlight the climax of the plot. For this reason, we predicted a word like “scream” to be effective in invoking the emotions of a reader which would therefore convince them to purchase books in the horror genre.\n",
    "\n",
    "\n",
    "References:\n",
    "- 1) [Success in books: a big data approach to bestsellers](https://epjdatascience.springeropen.com/articles/10.1140/epjds/s13688-018-0135-y#Sec17)\n",
    "- 2) [Kindle Keyword Strategy for Fiction Authors](https://kindlepreneur.com/kindle-keywords-fiction-author-strategy/)\n",
    "- 3) [A look at the top 25 words in highly rated romance novels](https://www.houstonchronicle.com/entertainment/books/article/A-look-at-the-top-25-words-in-highly-rated-13190614.php)\n",
    "- 4) [Machine learning literary genres from 19th century seafaring, horror and western novels](http://www.subsubroutine.com/sub-subroutine/2013/12/08/machine-learning-literary-genres-from-19th-century-seafaring-horror-and-western-novels)"
   ]
  },
  {
   "cell_type": "markdown",
   "metadata": {},
   "source": [
    "# Hypothesis\n"
   ]
  },
  {
   "cell_type": "markdown",
   "metadata": {},
   "source": [
    "Our group hypothesized that specific words and phrases in a horror and romance book’s synopsis would have a higher chance of persuading customers to purchase the books. Specifically, words such as “love” for romance and “screaming” for horror are likely to be indicative of convincing a customer to purchase the book."
   ]
  },
  {
   "cell_type": "markdown",
   "metadata": {},
   "source": [
    "# Data"
   ]
  },
  {
   "cell_type": "markdown",
   "metadata": {},
   "source": [
    "**Variables**\n",
    "\n",
    "- Data regarding the primary genre of the book, namely horror and romance.\n",
    "- Sales revenue data (adjusted for inflation) from 2020.\n",
    "- A counter that stores the frequencies of all words in a book’s summary.\n",
    "- A counter that stores the frequencies of all phrases in a book’s summary.\n",
    "- Data regarding the book’s year and month of publication.\n",
    "\n",
    "**Time Period**\n",
    "\n",
    "- 2020 best selling horror and romance.\n",
    "\n",
    "**Size of dataset**\n",
    "\n",
    "- 50 best sellers per genre.\n",
    "\n",
    "**Ideal dataset source**\n",
    "\n",
    "- API from Google Books to provide the text data of a book’s cover summary.\n",
    "\n",
    "**Ideal dataset format**\n",
    "\n",
    "- CSV or SQL database would be ideal."
   ]
  },
  {
   "cell_type": "markdown",
   "metadata": {},
   "source": [
    "# Ethics & Privacy"
   ]
  },
  {
   "cell_type": "markdown",
   "metadata": {},
   "source": [
    "The research question is straightforward and concise enough that there is no room for ambiguity. The data we will be using is publically available and does not contain any personally identifiable information that could be used in a harmful manner. That said, the permission for using the datasets is approved.\n",
    "\n",
    "Since the titles, summaries and contents of the books are open to the public, and there is no informed consent that is required, there would be no issues regarding the privacy concerns.\n",
    "\n",
    "Our research project excludes data associated with any illegal methods of obtaining the books. Specifically, methods such as pirating and torrenting the books are too difficult to accurately quantify so they will not be included in our dataset or analysis.\n",
    "\n",
    "In the scenario that we do encounter any particular ethics or privacy concerns, then we will take the appropriate measures to correct it. Specifically, we will either anonymize any problematic data or remove it if necessary.\n",
    "\n",
    "We believe that some biases in our project will be from the category of best sellers chosen from the romance and horror genre. Best-seller by definition is based on the number of books sold that lead to success and a spot on the best-seller list. For example a book that is on one of the most notable best-sellers list the New York Times makes it easier to sell the book. Another potential bias in this project is the focus on only English written novels which limit all other languages and translations from romance and horror genres."
   ]
  },
  {
   "cell_type": "markdown",
   "metadata": {},
   "source": [
    "# Team Expectations "
   ]
  },
  {
   "cell_type": "markdown",
   "metadata": {},
   "source": [
    "* Team members should actively communicate with each other via group chat and share important files and resources on Github.\n",
    "* Team members are expected to actively participate and contribute to all meetings.\n",
    "* Team members are expected to show up to meetings with their assigned tasks completed.\n",
    "* Team members are required to complete their assigned tasks to adequate standards and meet deadlines. If a team member is unable to complete their task, they need to notify the team immediately."
   ]
  },
  {
   "cell_type": "markdown",
   "metadata": {},
   "source": [
    "# Project Timeline Proposal"
   ]
  },
  {
   "cell_type": "markdown",
   "metadata": {},
   "source": [
    "| Meeting Date | Meeting Time | Completed Before Meeting | Discuss at Meeting |\n",
    "|-----|-----|-----|-----|\n",
    "| 10/14        | 5 PM         | Contacted team members via email and setup Slack channel for team communication, brainstormed topics/ questions | Discussed possible project ideas, brainstormed approach for our ideas, scouted possible sources for information                                                                                                         |\n",
    "| 10/22        | 10:30 PM     | Setup template for project proposal, do background research on topic.                                           | Brainstormed various possible ideas for out project.<br>Discussed the proposal points (question, hypothesis, data, etc) for the topic we settled on.<br>Drafted, edited, finalized, and submitted our project proposal. |\n",
    "| 10/30        | 8 PM         | Search for datasets                                                                                             | Discuss wrangling and possible analytical approaches.<br>Assigned group members to lead specific tasks.                                                                                                                 |\n",
    "| 11/06        | 8 PM         | Import & Wrangle Data; EDA                                                                                      | Review and edit.<br>Wrangling and EDA.<br>Discuss analysis plan.                                                                                                                                                        |\n",
    "| 11/13        | 8 PM         | EDA                                                                                                             | Update on analysis.<br>Review and edit wrangling.<br>EDA.                                                                                                                                                               |\n",
    "| 11/20        | 8 PM         | Wrangling Data/ EDA; Begin analysis                                                                             | Discuss and edit analysis.<br>Complete project check-in                                                                                                                                                                 |\n",
    "| 11/27        | N/A          | Thanksgiving no meeting.                                                                                        | Thanksgiving no meeting.                                                                                                                                                                                                |\n",
    "| 12/04        | 8 PM         | Complete analysis; Draft results/conclusion/discussion                                                          | Discuss and edit full project.                                                                                                                                                                                          |\n",
    "| 12/11        | 8 PM         | Draft final project                                                                                             | Review final project<br>Submit final project and group surveys                                                                                                                                                          |"
   ]
  }
 ],
 "metadata": {
  "kernelspec": {
   "display_name": "Python 3",
   "language": "python",
   "name": "python3"
  },
  "language_info": {
   "codemirror_mode": {
    "name": "ipython",
    "version": 3
   },
   "file_extension": ".py",
   "mimetype": "text/x-python",
   "name": "python",
   "nbconvert_exporter": "python",
   "pygments_lexer": "ipython3",
   "version": "3.8.3"
  }
 },
 "nbformat": 4,
 "nbformat_minor": 2
}
